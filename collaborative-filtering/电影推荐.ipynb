{
 "cells": [
  {
   "cell_type": "markdown",
   "metadata": {},
   "source": [
    "## 手工构造数据字典"
   ]
  },
  {
   "cell_type": "code",
   "execution_count": 1,
   "metadata": {
    "collapsed": true
   },
   "outputs": [],
   "source": [
    "critics={'Lisa Rose': {'Lady in the Water': 2.5, 'Snakes on a Plane': 3.5,\n",
    " 'Just My Luck': 3.0, 'Superman Returns': 3.5, 'You, Me and Dupree': 2.5, \n",
    " 'The Night Listener': 3.0},\n",
    "'Gene Seymour': {'Lady in the Water': 3.0, 'Snakes on a Plane': 3.5, \n",
    " 'Just My Luck': 1.5, 'Superman Returns': 5.0, 'The Night Listener': 3.0, \n",
    " 'You, Me and Dupree': 3.5}, \n",
    "'Michael Phillips': {'Lady in the Water': 2.5, 'Snakes on a Plane': 3.0,\n",
    " 'Superman Returns': 3.5, 'The Night Listener': 4.0},\n",
    "'Claudia Puig': {'Snakes on a Plane': 3.5, 'Just My Luck': 3.0,\n",
    " 'The Night Listener': 4.5, 'Superman Returns': 4.0, \n",
    " 'You, Me and Dupree': 2.5},\n",
    "'Mick LaSalle': {'Lady in the Water': 3.0, 'Snakes on a Plane': 4.0, \n",
    " 'Just My Luck': 2.0, 'Superman Returns': 3.0, 'The Night Listener': 3.0,\n",
    " 'You, Me and Dupree': 2.0}, \n",
    "'Jack Matthews': {'Lady in the Water': 3.0, 'Snakes on a Plane': 4.0,\n",
    " 'The Night Listener': 3.0, 'Superman Returns': 5.0, 'You, Me and Dupree': 3.5},\n",
    "'Toby': {'Snakes on a Plane':4.5,'You, Me and Dupree':1.0,'Superman Returns':4.0}}"
   ]
  },
  {
   "cell_type": "markdown",
   "metadata": {},
   "source": [
    "### 输出测试"
   ]
  },
  {
   "cell_type": "code",
   "execution_count": 4,
   "metadata": {
    "collapsed": false
   },
   "outputs": [
    {
     "data": {
      "text/plain": [
       "{'Just My Luck': 3.0,\n",
       " 'Lady in the Water': 2.5,\n",
       " 'Snakes on a Plane': 3.5,\n",
       " 'Superman Returns': 3.5,\n",
       " 'The Night Listener': 3.0,\n",
       " 'You, Me and Dupree': 2.5}"
      ]
     },
     "execution_count": 4,
     "metadata": {},
     "output_type": "execute_result"
    }
   ],
   "source": [
    "critics['Lisa Rose']"
   ]
  },
  {
   "cell_type": "markdown",
   "metadata": {},
   "source": [
    "## 计算相似度，基于欧几里得距离"
   ]
  },
  {
   "cell_type": "code",
   "execution_count": 22,
   "metadata": {
    "collapsed": false
   },
   "outputs": [],
   "source": [
    "def euclidean_similarity(prefs, person1, person2):\n",
    "    # 统计公有项\n",
    "    shared_items={}\n",
    "    for item in prefs[person1]:\n",
    "        if item in prefs[person2]:\n",
    "            shared_items[item] = 1\n",
    "\n",
    "    # 没有公有项\n",
    "    if len(shared_items) == 0: return 0\n",
    "\n",
    "    # 距离平方和\n",
    "    # 语法：利用sum求list和\n",
    "    sum_of_squares = sum([pow(prefs[person1][item] - prefs[person2][item], 2) \n",
    "                          for item in prefs[person1] if item in prefs[person2]])\n",
    "    # 防止出现无穷大，所以+1\n",
    "    return 1 / (1 + sqrt(sum_of_squares))"
   ]
  },
  {
   "cell_type": "markdown",
   "metadata": {},
   "source": [
    "### 测试输出"
   ]
  },
  {
   "cell_type": "code",
   "execution_count": 23,
   "metadata": {
    "collapsed": false
   },
   "outputs": [
    {
     "name": "stdout",
     "output_type": "stream",
     "text": [
      "0.29429805508554946\n"
     ]
    }
   ],
   "source": [
    "print(euclidean_similarity(critics, 'Lisa Rose', 'Gene Seymour'))"
   ]
  },
  {
   "cell_type": "markdown",
   "metadata": {},
   "source": [
    "## 计算相似度，基于皮尔森相关系数"
   ]
  },
  {
   "cell_type": "code",
   "execution_count": 19,
   "metadata": {
    "collapsed": true
   },
   "outputs": [],
   "source": [
    "from math import sqrt\n",
    "\n",
    "def pearson_similarity(prefs, person1, person2):\n",
    "    # 统计公有项\n",
    "    shared_items={}\n",
    "    for item in prefs[person1]:\n",
    "        if item in prefs[person2]:\n",
    "            shared_items[item] = 1\n",
    "\n",
    "    # 没有公有项（认为相似度最高），返回1\n",
    "    n = len(shared_items)\n",
    "    if n == 0: return 1\n",
    "    \n",
    "    sum1 = sum([prefs[person1][it] for it in shared_items])\n",
    "    sum2 = sum([prefs[person2][it] for it in shared_items])\n",
    "    \n",
    "    sum_of_square1 = sum([pow(prefs[person1][it], 2) for it in shared_items])\n",
    "    sum_of_square2 = sum([pow(prefs[person2][it], 2) for it in shared_items])\n",
    "    \n",
    "    sum12 = sum([prefs[person1][it] * prefs[person2][it] for it in shared_items])\n",
    "    \n",
    "    # num为协方差，den为标准差的乘积\n",
    "    num = sum12 - (sum1 * sum2 / n)\n",
    "    den = sqrt((sum_of_square1 - pow(sum1, 2) / n) * (sum_of_square2 - pow(sum2, 2) / n))\n",
    "    \n",
    "    if den == 0: return 0\n",
    "    \n",
    "    return num / den\n",
    "    "
   ]
  },
  {
   "cell_type": "markdown",
   "metadata": {},
   "source": [
    "### 测试输出"
   ]
  },
  {
   "cell_type": "code",
   "execution_count": 24,
   "metadata": {
    "collapsed": false
   },
   "outputs": [
    {
     "name": "stdout",
     "output_type": "stream",
     "text": [
      "0.39605901719066977\n"
     ]
    }
   ],
   "source": [
    "print(pearson_similarity(critics, 'Lisa Rose', 'Gene Seymour'))"
   ]
  },
  {
   "cell_type": "markdown",
   "metadata": {},
   "source": [
    "## 基于用户的匹配：统计和person相似度最高的n个人"
   ]
  },
  {
   "cell_type": "code",
   "execution_count": 27,
   "metadata": {
    "collapsed": true
   },
   "outputs": [],
   "source": [
    "def top_matched_people(prefs, person, n=5, similarity=pearson_similarity):\n",
    "    scores = [(similarity(prefs, person, person1), person1) for person1 in prefs if person1 != person]\n",
    "    scores.sort(reverse=True)\n",
    "    return scores[:n]\n",
    "    "
   ]
  },
  {
   "cell_type": "markdown",
   "metadata": {},
   "source": [
    "### 输出测试"
   ]
  },
  {
   "cell_type": "code",
   "execution_count": 28,
   "metadata": {
    "collapsed": false
   },
   "outputs": [
    {
     "name": "stdout",
     "output_type": "stream",
     "text": [
      "[(0.9912407071619299, 'Lisa Rose'), (0.9244734516419049, 'Mick LaSalle'), (0.8934051474415647, 'Claudia Puig')]\n"
     ]
    }
   ],
   "source": [
    "print(top_matched_people(critics, 'Toby', n=3))"
   ]
  },
  {
   "cell_type": "markdown",
   "metadata": {},
   "source": [
    "## 统计推荐电影\n",
    "- 考虑到scores中的n个人都看过同一个person没看过的电影，那么对这部电影的评分应该取这n个人评分的加权平均值，所以衍生出了如下方法"
   ]
  },
  {
   "cell_type": "code",
   "execution_count": 31,
   "metadata": {
    "collapsed": true
   },
   "outputs": [],
   "source": [
    "def get_recommendations(prefs, person, similarity=pearson_similarity):\n",
    "    totals = {} # 相似度加权和\n",
    "    sum_of_sims = {} # 相似度总权重\n",
    "    \n",
    "    for person1 in prefs:\n",
    "        if person1 == person: continue\n",
    "        # 相似度小于0不考虑\n",
    "        sim = similarity(prefs, person, person1)\n",
    "        if sim < 0: continue\n",
    "        \n",
    "        for it in prefs[person1]:\n",
    "            if it not in prefs[person] or prefs[person][it] == 0:\n",
    "                totals.setdefault(it, 0)\n",
    "                sum_of_sims.setdefault(it, 0)\n",
    "                totals[it] +=  sim * prefs[person1][it]\n",
    "                sum_of_sims[it] += sim\n",
    "    # 统计平均相似度\n",
    "    scores = [(total / sum_of_sims[it], it) for it, total in totals.items()]\n",
    "    scores.sort(reverse=True)\n",
    "    return scores"
   ]
  },
  {
   "cell_type": "markdown",
   "metadata": {},
   "source": [
    "### 输出测试"
   ]
  },
  {
   "cell_type": "code",
   "execution_count": 32,
   "metadata": {
    "collapsed": false
   },
   "outputs": [
    {
     "name": "stdout",
     "output_type": "stream",
     "text": [
      "[(3.3477895267131013, 'The Night Listener'), (2.8325499182641614, 'Lady in the Water'), (2.5309807037655645, 'Just My Luck')]\n"
     ]
    }
   ],
   "source": [
    "print(get_recommendations(critics, 'Toby'))"
   ]
  },
  {
   "cell_type": "markdown",
   "metadata": {},
   "source": [
    "## 基于物品的匹配\n",
    "- 以上的做法是基于用户的匹配，接下来要做的是基于物品的匹配：找出相似的物品"
   ]
  },
  {
   "cell_type": "markdown",
   "metadata": {},
   "source": [
    "### 将prefs转置，基于物的索引\n",
    "- 重复利用了前面的函数，对于变量名可能有些不相符"
   ]
  },
  {
   "cell_type": "code",
   "execution_count": 43,
   "metadata": {
    "collapsed": true
   },
   "outputs": [],
   "source": [
    "def transform_prefs(prefs):\n",
    "    res = {}\n",
    "    for person, item in prefs.items():\n",
    "        for it in item:\n",
    "            res.setdefault(it, {})\n",
    "            res[it][person] = item[it]\n",
    "    return res\n",
    "\n",
    "moives = transform_prefs(critics)"
   ]
  },
  {
   "cell_type": "markdown",
   "metadata": {},
   "source": [
    "### 输出测试"
   ]
  },
  {
   "cell_type": "code",
   "execution_count": 44,
   "metadata": {
    "collapsed": false
   },
   "outputs": [
    {
     "name": "stdout",
     "output_type": "stream",
     "text": [
      "[(0.6579516949597695, 'You, Me and Dupree'), (0.4879500364742689, 'Lady in the Water'), (0.11180339887498941, 'Snakes on a Plane'), (-0.1798471947990544, 'The Night Listener'), (-0.42289003161103106, 'Just My Luck')]\n"
     ]
    }
   ],
   "source": [
    "print(top_matched_people(moives, 'Superman Returns'))"
   ]
  },
  {
   "cell_type": "markdown",
   "metadata": {},
   "source": [
    "## 真实数据实战：电影推荐"
   ]
  },
  {
   "cell_type": "markdown",
   "metadata": {},
   "source": [
    "### 加载数据"
   ]
  },
  {
   "cell_type": "code",
   "execution_count": 63,
   "metadata": {
    "collapsed": true
   },
   "outputs": [],
   "source": [
    "import pandas as pd\n",
    "\n",
    "def load_data(path='./ml-latest-small'):\n",
    "    movies = {}\n",
    "    movies_data = pd.read_csv(path + '/movies.csv')\n",
    "    \n",
    "    for index, row in movies_data.iterrows():\n",
    "        movies[int(row['movieId'])] = row['title']\n",
    "    \n",
    "    critics = {}\n",
    "    critics_data = pd.read_csv(path + '/ratings.csv')\n",
    "    \n",
    "    for index, row in critics_data.iterrows():\n",
    "        key1 = int(row['userId'])\n",
    "        key2 = movies[int(row['movieId'])]\n",
    "        critics.setdefault(key1, {})\n",
    "        critics[key1][key2] = row['rating']\n",
    "    \n",
    "    return critics\n",
    "\n",
    "critics = load_data()"
   ]
  },
  {
   "cell_type": "markdown",
   "metadata": {},
   "source": [
    "### 输出测试"
   ]
  },
  {
   "cell_type": "code",
   "execution_count": 70,
   "metadata": {
    "collapsed": false
   },
   "outputs": [
    {
     "name": "stdout",
     "output_type": "stream",
     "text": [
      "{'What About Bob? (1991)': 3.0, 'Army of Darkness (1993)': 5.0, 'Mad About Mambo (2000)': 2.0, 'Cat Ballou (1965)': 3.0, 'Saving Grace (2000)': 4.0, 'Sleeper (1973)': 3.0, 'Searching for Bobby Fischer (1993)': 1.0, 'Footloose (1984)': 1.0, 'Princess Bride, The (1987)': 1.0, \"Bug's Life, A (1998)\": 2.0, 'House Party (1990)': 2.0, 'Star Trek II: The Wrath of Khan (1982)': 1.0, 'Blame It on Rio (1984)': 2.0, 'What Lies Beneath (2000)': 4.0, 'Planet of the Apes (1968)': 1.0, 'Six Degrees of Separation (1993)': 3.0, 'X-Men (2000)': 5.0, 'Steel Magnolias (1989)': 1.0, 'Replacements, The (2000)': 3.0, 'Retroactive (1997)': 4.0, 'Twister (1996)': 4.0, 'Love & Sex (2000)': 3.0, 'Boiler Room (2000)': 4.0, 'Shane (1953)': 2.0, 'Man Who Fell to Earth, The (1976)': 4.0, 'Texas Chainsaw Massacre 2, The (1986)': 4.0, 'Cell, The (2000)': 5.0, 'Anatomy of a Murder (1959)': 3.0, 'Alice in Wonderland (1951)': 2.0, 'Unbearable Lightness of Being, The (1988)': 1.0, 'Drowning Mona (2000)': 1.0, 'Deuce Bigalow: Male Gigolo (1999)': 2.0, 'Talented Mr. Ripley, The (1999)': 3.0, 'Cider House Rules, The (1999)': 1.0, 'Chuck & Buck (2000)': 3.0, 'Fargo (1996)': 2.0, 'Mary Poppins (1964)': 1.0, 'Chasing Amy (1997)': 2.0, 'Pokémon the Movie 2000 (2000)': 1.0, 'Original Kings of Comedy, The (2000)': 5.0, 'Coyote Ugly (2000)': 5.0, 'Big Lebowski, The (1998)': 3.0, 'Steal This Movie! (2000)': 2.0, 'Erin Brockovich (2000)': 4.0, 'Jaws (1975)': 4.0, 'Rocketship X-M (1950)': 2.0, 'Space Jam (1996)': 1.0, 'Harold and Maude (1971)': 5.0, 'Art of War, The (2000)': 5.0, 'Annie Hall (1977)': 2.0, 'Fight Club (1999)': 4.0, 'Space Cowboys (2000)': 2.0, 'Air America (1990)': 2.0, 'Dreamscape (1984)': 3.0, 'Blues Brothers, The (1980)': 5.0, 'Swamp Thing (1982)': 2.0, 'Interview with the Vampire: The Vampire Chronicles (1994)': 3.0, 'Godzilla 2000 (Gojira ni-sen mireniamu) (1999)': 3.0, 'Naked Gun 2 1/2: The Smell of Fear, The (1991)': 2.0, 'Barb Wire (1996)': 3.0, \"Angela's Ashes (1999)\": 2.0}\n"
     ]
    }
   ],
   "source": [
    "# 用户id为12的用户的评分清单\n",
    "print(critics[12])\n"
   ]
  },
  {
   "cell_type": "markdown",
   "metadata": {},
   "source": [
    "### 输出推荐结果"
   ]
  },
  {
   "cell_type": "code",
   "execution_count": 68,
   "metadata": {
    "collapsed": false
   },
   "outputs": [
    {
     "name": "stdout",
     "output_type": "stream",
     "text": [
      "[(5.0, 'Picture Bride (Bijo photo) (1994)'), (5.0, 'Patience Stone, The (2012)'), (5.0, 'Funhouse, The (1981)'), (5.0, 'Dylan Moran: Monster (2004)'), (4.9999999999999991, \"Endurance: Shackleton's Legendary Antarctic Expedition, The (2000)\"), (4.9109101827977186, 'Soul Kitchen (2009)'), (4.5275114886506209, 'Eye of the Needle (1981)'), (4.5133989659689631, 'Cypher (2002)'), (4.5, 'Valentin (Valentín) (2002)'), (4.5, \"Twelve O'Clock High (1949)\"), (4.5, 'Take This Waltz (2011)'), (4.5, 'Summer Storm (Sommersturm) (2004)'), (4.5, 'Snoopy Come Home (1972)'), (4.5, 'Elizabeth: The Golden Age (2007)'), (4.4436687402836705, 'Changeling (2008)'), (4.3861951815587101, 'Harvey Girls, The (1946)'), (4.3698999036829598, 'Walking and Talking (1996)'), (4.357478650478102, 'Taxi Driver (1976)'), (4.3221106092610828, 'Vertigo (1958)'), (4.3068443301050641, 'Red Balloon, The (Ballon rouge, Le) (1956)'), (4.2764527771062211, 'Nadja (1994)'), (4.1701116922033332, 'More (1998)'), (4.1645369795931249, 'My Neighbor Totoro (Tonari no Totoro) (1988)'), (4.0858822333547167, 'Kite Runner, The (2007)'), (4.0571167186042469, 'Hilary and Jackie (1998)'), (4.044045454912311, 'What If (2013)'), (4.024987963857761, 'Manchurian Candidate, The (1962)'), (4.0112869269352753, 'Heaven & Earth (1993)'), (4.0, 'Wrong Man, The (1956)'), (4.0, \"Who Is Harry Nilsson (And Why Is Everybody Talkin' About Him?) (2010)\")]\n"
     ]
    },
    {
     "name": "stderr",
     "output_type": "stream",
     "text": [
      "/usr/local/lib/python3.5/dist-packages/ipykernel/__main__.py:19: RuntimeWarning: invalid value encountered in double_scalars\n"
     ]
    }
   ],
   "source": [
    "# 用户id为87的用户的推荐结果\n",
    "print(get_recommendations(critics, 87)[:30])"
   ]
  },
  {
   "cell_type": "code",
   "execution_count": null,
   "metadata": {
    "collapsed": true
   },
   "outputs": [],
   "source": []
  }
 ],
 "metadata": {
  "kernelspec": {
   "display_name": "Python 3",
   "language": "python",
   "name": "python3"
  },
  "language_info": {
   "codemirror_mode": {
    "name": "ipython",
    "version": 3
   },
   "file_extension": ".py",
   "mimetype": "text/x-python",
   "name": "python",
   "nbconvert_exporter": "python",
   "pygments_lexer": "ipython3",
   "version": "3.5.2"
  }
 },
 "nbformat": 4,
 "nbformat_minor": 2
}
